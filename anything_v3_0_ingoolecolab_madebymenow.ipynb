{
  "cells": [
    {
      "cell_type": "markdown",
      "metadata": {
        "id": "view-in-github",
        "colab_type": "text"
      },
      "source": [
        "<a href=\"https://colab.research.google.com/github/Leftyoutube/yrs/blob/main/anything_v3_0_ingoolecolab_madebymenow.ipynb\" target=\"_parent\"><img src=\"https://colab.research.google.com/assets/colab-badge.svg\" alt=\"Open In Colab\"/></a>"
      ]
    },
    {
      "cell_type": "markdown",
      "metadata": {
        "id": "dpiGdCIsgVKg"
      },
      "source": [
        "Anything V3.0 for google colab"
      ]
    },
    {
      "cell_type": "markdown",
      "metadata": {
        "id": "yH6URydMgVKq"
      },
      "source": [
        "made by Menow /\n",
        "offer by β教祖"
      ]
    },
    {
      "cell_type": "markdown",
      "metadata": {
        "id": "qzpNDzg4Mn5G"
      },
      "source": [
        "GPUのステータスをチェックします！（これは簡単で、すぐ終わります）"
      ]
    },
    {
      "cell_type": "code",
      "execution_count": null,
      "metadata": {
        "id": "K9A6q4AW348f"
      },
      "outputs": [],
      "source": [
        "!nvidia-smi"
      ]
    },
    {
      "cell_type": "markdown",
      "metadata": {
        "id": "m_4shTOgQ2Zw"
      },
      "source": [
        "必要なモジュールなどをインストールします！"
      ]
    },
    {
      "cell_type": "code",
      "execution_count": null,
      "metadata": {
        "id": "qrsOwFsM38UG"
      },
      "outputs": [],
      "source": [
        "!pip install -e git+https://github.com/CompVis/taming-transformers.git@master#egg=taming-transformers\n",
        "!pip install pytorch_lightning tensorboard==2.9.1 omegaconf einops taming-transformers==0.0.1 clip transformers kornia test-tube\n",
        "!pip install diffusers invisible-watermark"
      ]
    },
    {
      "cell_type": "markdown",
      "metadata": {
        "id": "O9mDA_W-NSjx"
      },
      "source": [
        "こちらもモジュールなどのインストールです"
      ]
    },
    {
      "cell_type": "code",
      "execution_count": null,
      "metadata": {
        "id": "EgNZu9Id5p7d"
      },
      "outputs": [],
      "source": [
        "!git clone https://github.com/AUTOMATIC1111/stable-diffusion-webui /content/stable-diffusion-webui\n",
        "%cd /content/stable-diffusion-webui\n",
        "!git pull"
      ]
    },
    {
      "cell_type": "markdown",
      "metadata": {
        "id": "-K-MIGWXNXCW"
      },
      "source": [
        "Anythingv3.0をインストールします"
      ]
    },
    {
      "cell_type": "code",
      "execution_count": null,
      "metadata": {
        "id": "CVnFdz6S4xwE"
      },
      "outputs": [],
      "source": [
        "# get anything model data\n",
        "!wget https://huggingface.co/Linaqruf/anything-v3.0/resolve/main/Anything-V3.0-pruned.ckpt\n",
        "!wget https://huggingface.co/Linaqruf/anything-v3.0/resolve/main/Anything-V3.0.vae.pt"
      ]
    },
    {
      "cell_type": "markdown",
      "metadata": {
        "id": "b3sevNuJe_Qq"
      },
      "source": [
        "Anything-V3.0-pruned.ckptと\n",
        "Anything-V3.0.vae.pt の名前を変更します（特に使用者に関係はない）"
      ]
    },
    {
      "cell_type": "code",
      "execution_count": null,
      "metadata": {
        "id": "x_nKXBJGcFwb"
      },
      "outputs": [],
      "source": [
        "%cd /content/stable-diffusion-webui\n",
        "import os\n",
        "os.rename(\"Anything-V3.0-pruned.ckpt\",\"model.ckpt\")\n",
        "os.rename(\"Anything-V3.0.vae.pt\",\"model.vae.pt\")"
      ]
    },
    {
      "cell_type": "markdown",
      "metadata": {
        "id": "F5IUKDiQQ6KA"
      },
      "source": [
        "**ここからは実行に入ります！**\n",
        "\n",
        "（実行し）しばらくすると、 ランダムな文字列で開かれたURLが出てくるのでクリックしてください\n",
        "すると別タブでAnthing (stable diffusion web ui) のURLが開きます\n",
        "\n",
        "あとは好きなようにいじってみてください（stable diffusion web uiの使い方は各自調べてみて下さい！）\n",
        "\n",
        "※動かしてる間はずっと実行中になるので、終わるときは■を押してください"
      ]
    },
    {
      "cell_type": "code",
      "execution_count": null,
      "metadata": {
        "id": "1byutNXo5iej"
      },
      "outputs": [],
      "source": [
        "%cd /content/stable-diffusion-webui\n",
        "!COMMANDLINE_ARGS=\"--share --gradio-debug\" REQS_FILE=\"requirements.txt\" python launch.py"
      ]
    },
    {
      "cell_type": "markdown",
      "metadata": {
        "id": "DUwgCyIF9Rlp"
      },
      "source": [
        "　\n",
        "　\n",
        "補足：/content/stable-diffusion-webui/outputs/txt2img-images　に画像が保存されてます"
      ]
    }
  ],
  "metadata": {
    "accelerator": "GPU",
    "colab": {
      "provenance": [],
      "toc_visible": true,
      "include_colab_link": true
    },
    "gpuClass": "standard",
    "kernelspec": {
      "display_name": "Python 3",
      "name": "python3"
    },
    "language_info": {
      "name": "python"
    }
  },
  "nbformat": 4,
  "nbformat_minor": 0
}